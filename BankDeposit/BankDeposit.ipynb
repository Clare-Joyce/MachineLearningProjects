{
 "cells": [
  {
   "cell_type": "markdown",
   "metadata": {},
   "source": [
    "## Implementation of a Bank Term Deposit Predictive Model\n",
    "\n",
    "\n",
    "### Problem description:\n",
    "\n",
    "**To determine if a customer will subscribe to a term deposit or not.**\n",
    "\n",
    "With the dataset provided, the goal to the project is to implement a machine learning to predict if a customer will subscribe to a term deposit or not. Given a set of characteristics about a customer, this model should be able to detrmine if the customer will or will not subscribe to the term deposit. A labelled dataset is provided and hence making it a supervised machine learning problem. Given that the target value has two possible values, that make it a binary clssification problem.\n",
    "\n",
    "Although this project is meant to help me gain practical understanding of data analysis, it could be use to  increase the efficiency of a marketing campaign by identifying the factors that have the greatest influence on\n",
    "the campaign and predicting whether the campaign will be successful to a particular customer of the bank. It can also be used to forecast if a customer will subscribe or not and based on this, better marketing plans are put in place to increase subscription values.\n",
    "\n",
    "Some related problems include\n",
    "* wine classification based on quality\n",
    "* Spam detection based on the email content \n",
    "* fraudulent bank transaction detection etc\n",
    "\n",
    "**Approach**\n",
    "\n",
    "* Supervised machine learning techniques are adopted in this task because a labeled data set had been provided.\n",
    "* The goal is to learn or do a mapping between the given explanatory variables and the target variable.\n",
    "* From the mapping, a relationship between the features and the target variable is established.\n",
    "* This function is then used to make predcitions of the target variables when given a set of the explanatory variables.\n",
    "* To improve on the perfomance model, measures are taken to mitigate the effect of \n",
    "    * the imbalance in the dataset set and feature selection is also used.\n",
    "    * The presence out outliers\n",
    "\n",
    "**Steps**\n",
    "\n",
    "* Data preprocessing (cleaning and visualization)\n",
    "* Train an SVM binary classifier.\n",
    "* Make predictions with the classifier.\n",
    "* Evaluate the performance of the model.\n",
    "* Improve the performance of the model\n",
    "\n",
    "\n"
   ]
  },
  {
   "cell_type": "markdown",
   "metadata": {},
   "source": [
    "#### Attribute information\n",
    "* age :\t\t(numeric)\n",
    "* ob : \t\ttype of job (categorical: \"admin.\",\"unknown\",\"unemployed\",\"management\",\"housemaid\",\"entrepreneur\",\"student\", \"blue-collar\",\"self-employed\",\"retired\",\"technician\",\"services\") \n",
    "* marital : \tmarital status (categorical: \"married\",\"divorced\",\"single\"; note: \"divorced\" means divorced or widowed)\n",
    "* education : \t(categorical: \"unknown\",\"secondary\",\"primary\",\"tertiary\")\n",
    "* default: \t\thas credit in default? (binary: \"yes\",\"no\")\n",
    "* balance: \t\taverage yearly balance, in euros (numeric) \n",
    "* housing: \t\thas housing loan? (binary: \"yes\",\"no\")\n",
    "* loan: \t\thas personal loan? (binary: \"yes\",\"no\")\n",
    "* contact: \t\tcontact communication type (categorical: \"unknown\",\"telephone\",\"cellular\") \n",
    "* day: \t\tlast contact day of the month (numeric)\n",
    "* month: \t\tlast contact month of year (categorical: \"jan\", \"feb\", \"mar\", ..., \"nov\", \"dec\")\n",
    "* duration: \tlast contact duration, in seconds (numeric)\n",
    "* campaign: \tnumber of contacts performed during this campaign and for this client (numeric, includes last contact)\n",
    "* pdays: \t\tnumber of days that passed by after the client was last contacted from a previous campaign (numeric, -1 means client was not previously contacted)\n",
    "* previous: \tnumber of contacts performed before this campaign and for this client (numeric)\n",
    "* poutcome: \toutcome of the previous marketing campaign (categorical: \"unknown\",\"other\",\"failure\",\"success\")\n",
    "\n",
    "* Class:      has the client subscribed a term deposit? :\t(binary: \"yes\",\"no\")\n"
   ]
  },
  {
   "cell_type": "code",
   "execution_count": 1,
   "metadata": {},
   "outputs": [],
   "source": [
    "# import all necessary libraries here\n",
    "\n",
    "import pandas as pd\n",
    "import matplotlib.pyplot as plt\n",
    "import seaborn as sb\n",
    "import numpy as np\n",
    "import scipy as sp\n",
    "from scipy.stats import skew\n",
    "from sklearn.preprocessing import MinMaxScaler\n",
    "from sklearn.preprocessing import LabelBinarizer\n",
    "from sklearn.model_selection import train_test_split\n",
    "from sklearn import svm\n",
    "from sklearn.metrics import accuracy_score, f1_score, confusion_matrix, recall_score\n"
   ]
  },
  {
   "cell_type": "markdown",
   "metadata": {},
   "source": [
    "### Exploratory Data Analysis.\n",
    "#### Import the data and look at the structure of the data.\n",
    "\n",
    "* By using the `df.head(n)`, the first n rows of the dataset are displayed and df.tail(n) displays the last n rows of tha dataset. By default, these functions return the first five rows and the last 5 rows respectively.\n",
    "\n"
   ]
  },
  {
   "cell_type": "code",
   "execution_count": 2,
   "metadata": {},
   "outputs": [
    {
     "data": {
      "text/html": [
       "<div>\n",
       "<style scoped>\n",
       "    .dataframe tbody tr th:only-of-type {\n",
       "        vertical-align: middle;\n",
       "    }\n",
       "\n",
       "    .dataframe tbody tr th {\n",
       "        vertical-align: top;\n",
       "    }\n",
       "\n",
       "    .dataframe thead th {\n",
       "        text-align: right;\n",
       "    }\n",
       "</style>\n",
       "<table border=\"1\" class=\"dataframe\">\n",
       "  <thead>\n",
       "    <tr style=\"text-align: right;\">\n",
       "      <th></th>\n",
       "      <th>age</th>\n",
       "      <th>job</th>\n",
       "      <th>marital</th>\n",
       "      <th>education</th>\n",
       "      <th>default</th>\n",
       "      <th>balance</th>\n",
       "      <th>housing</th>\n",
       "      <th>loan</th>\n",
       "      <th>contact</th>\n",
       "      <th>day</th>\n",
       "      <th>month</th>\n",
       "      <th>duration</th>\n",
       "      <th>campaign</th>\n",
       "      <th>pdays</th>\n",
       "      <th>previous</th>\n",
       "      <th>poutcome</th>\n",
       "      <th>subscribed</th>\n",
       "    </tr>\n",
       "  </thead>\n",
       "  <tbody>\n",
       "    <tr>\n",
       "      <th>0</th>\n",
       "      <td>58</td>\n",
       "      <td>management</td>\n",
       "      <td>married</td>\n",
       "      <td>tertiary</td>\n",
       "      <td>no</td>\n",
       "      <td>2143.0</td>\n",
       "      <td>yes</td>\n",
       "      <td>no</td>\n",
       "      <td>unknown</td>\n",
       "      <td>5.0</td>\n",
       "      <td>may</td>\n",
       "      <td>261</td>\n",
       "      <td>1</td>\n",
       "      <td>-1.0</td>\n",
       "      <td>0</td>\n",
       "      <td>unknown</td>\n",
       "      <td>no</td>\n",
       "    </tr>\n",
       "    <tr>\n",
       "      <th>1</th>\n",
       "      <td>44</td>\n",
       "      <td>technician</td>\n",
       "      <td>single</td>\n",
       "      <td>secondary</td>\n",
       "      <td>no</td>\n",
       "      <td>29.0</td>\n",
       "      <td>yes</td>\n",
       "      <td>no</td>\n",
       "      <td>unknown</td>\n",
       "      <td>5.0</td>\n",
       "      <td>may</td>\n",
       "      <td>151</td>\n",
       "      <td>1</td>\n",
       "      <td>-1.0</td>\n",
       "      <td>0</td>\n",
       "      <td>unknown</td>\n",
       "      <td>no</td>\n",
       "    </tr>\n",
       "    <tr>\n",
       "      <th>2</th>\n",
       "      <td>33</td>\n",
       "      <td>entrepreneur</td>\n",
       "      <td>married</td>\n",
       "      <td>secondary</td>\n",
       "      <td>no</td>\n",
       "      <td>2.0</td>\n",
       "      <td>yes</td>\n",
       "      <td>yes</td>\n",
       "      <td>unknown</td>\n",
       "      <td>5.0</td>\n",
       "      <td>may</td>\n",
       "      <td>76</td>\n",
       "      <td>1</td>\n",
       "      <td>-1.0</td>\n",
       "      <td>0</td>\n",
       "      <td>unknown</td>\n",
       "      <td>no</td>\n",
       "    </tr>\n",
       "    <tr>\n",
       "      <th>3</th>\n",
       "      <td>47</td>\n",
       "      <td>blue-collar</td>\n",
       "      <td>married</td>\n",
       "      <td>unknown</td>\n",
       "      <td>no</td>\n",
       "      <td>1506.0</td>\n",
       "      <td>yes</td>\n",
       "      <td>no</td>\n",
       "      <td>unknown</td>\n",
       "      <td>5.0</td>\n",
       "      <td>may</td>\n",
       "      <td>92</td>\n",
       "      <td>1</td>\n",
       "      <td>-1.0</td>\n",
       "      <td>0</td>\n",
       "      <td>unknown</td>\n",
       "      <td>no</td>\n",
       "    </tr>\n",
       "    <tr>\n",
       "      <th>4</th>\n",
       "      <td>33</td>\n",
       "      <td>unknown</td>\n",
       "      <td>single</td>\n",
       "      <td>unknown</td>\n",
       "      <td>no</td>\n",
       "      <td>1.0</td>\n",
       "      <td>no</td>\n",
       "      <td>no</td>\n",
       "      <td>unknown</td>\n",
       "      <td>5.0</td>\n",
       "      <td>may</td>\n",
       "      <td>198</td>\n",
       "      <td>1</td>\n",
       "      <td>-1.0</td>\n",
       "      <td>0</td>\n",
       "      <td>unknown</td>\n",
       "      <td>no</td>\n",
       "    </tr>\n",
       "  </tbody>\n",
       "</table>\n",
       "</div>"
      ],
      "text/plain": [
       "   age           job  marital  education default  balance housing loan  \\\n",
       "0   58    management  married   tertiary      no   2143.0     yes   no   \n",
       "1   44    technician   single  secondary      no     29.0     yes   no   \n",
       "2   33  entrepreneur  married  secondary      no      2.0     yes  yes   \n",
       "3   47   blue-collar  married    unknown      no   1506.0     yes   no   \n",
       "4   33       unknown   single    unknown      no      1.0      no   no   \n",
       "\n",
       "   contact  day month  duration  campaign  pdays  previous poutcome subscribed  \n",
       "0  unknown  5.0   may       261         1   -1.0         0  unknown         no  \n",
       "1  unknown  5.0   may       151         1   -1.0         0  unknown         no  \n",
       "2  unknown  5.0   may        76         1   -1.0         0  unknown         no  \n",
       "3  unknown  5.0   may        92         1   -1.0         0  unknown         no  \n",
       "4  unknown  5.0   may       198         1   -1.0         0  unknown         no  "
      ]
     },
     "execution_count": 2,
     "metadata": {},
     "output_type": "execute_result"
    }
   ],
   "source": [
    "# read in the data\n",
    "\n",
    "bank_df = pd.read_csv(\"Bank/bank.csv\")\n",
    "bank_df.head()"
   ]
  },
  {
   "cell_type": "code",
   "execution_count": 3,
   "metadata": {},
   "outputs": [
    {
     "data": {
      "text/html": [
       "<div>\n",
       "<style scoped>\n",
       "    .dataframe tbody tr th:only-of-type {\n",
       "        vertical-align: middle;\n",
       "    }\n",
       "\n",
       "    .dataframe tbody tr th {\n",
       "        vertical-align: top;\n",
       "    }\n",
       "\n",
       "    .dataframe thead th {\n",
       "        text-align: right;\n",
       "    }\n",
       "</style>\n",
       "<table border=\"1\" class=\"dataframe\">\n",
       "  <thead>\n",
       "    <tr style=\"text-align: right;\">\n",
       "      <th></th>\n",
       "      <th>age</th>\n",
       "      <th>job</th>\n",
       "      <th>marital</th>\n",
       "      <th>education</th>\n",
       "      <th>default</th>\n",
       "      <th>balance</th>\n",
       "      <th>housing</th>\n",
       "      <th>loan</th>\n",
       "      <th>contact</th>\n",
       "      <th>day</th>\n",
       "      <th>month</th>\n",
       "      <th>duration</th>\n",
       "      <th>campaign</th>\n",
       "      <th>pdays</th>\n",
       "      <th>previous</th>\n",
       "      <th>poutcome</th>\n",
       "      <th>subscribed</th>\n",
       "    </tr>\n",
       "  </thead>\n",
       "  <tbody>\n",
       "    <tr>\n",
       "      <th>15106</th>\n",
       "      <td>51</td>\n",
       "      <td>technician</td>\n",
       "      <td>married</td>\n",
       "      <td>tertiary</td>\n",
       "      <td>no</td>\n",
       "      <td>825.0</td>\n",
       "      <td>no</td>\n",
       "      <td>no</td>\n",
       "      <td>cellular</td>\n",
       "      <td>17.0</td>\n",
       "      <td>nov</td>\n",
       "      <td>977</td>\n",
       "      <td>3</td>\n",
       "      <td>-1.0</td>\n",
       "      <td>0</td>\n",
       "      <td>unknown</td>\n",
       "      <td>yes</td>\n",
       "    </tr>\n",
       "    <tr>\n",
       "      <th>15107</th>\n",
       "      <td>71</td>\n",
       "      <td>retired</td>\n",
       "      <td>divorced</td>\n",
       "      <td>primary</td>\n",
       "      <td>no</td>\n",
       "      <td>1729.0</td>\n",
       "      <td>no</td>\n",
       "      <td>no</td>\n",
       "      <td>cellular</td>\n",
       "      <td>17.0</td>\n",
       "      <td>nov</td>\n",
       "      <td>456</td>\n",
       "      <td>2</td>\n",
       "      <td>-1.0</td>\n",
       "      <td>0</td>\n",
       "      <td>unknown</td>\n",
       "      <td>yes</td>\n",
       "    </tr>\n",
       "    <tr>\n",
       "      <th>15108</th>\n",
       "      <td>72</td>\n",
       "      <td>retired</td>\n",
       "      <td>married</td>\n",
       "      <td>secondary</td>\n",
       "      <td>no</td>\n",
       "      <td>5715.0</td>\n",
       "      <td>no</td>\n",
       "      <td>no</td>\n",
       "      <td>cellular</td>\n",
       "      <td>17.0</td>\n",
       "      <td>nov</td>\n",
       "      <td>1127</td>\n",
       "      <td>5</td>\n",
       "      <td>184.0</td>\n",
       "      <td>3</td>\n",
       "      <td>success</td>\n",
       "      <td>yes</td>\n",
       "    </tr>\n",
       "    <tr>\n",
       "      <th>15109</th>\n",
       "      <td>57</td>\n",
       "      <td>blue-collar</td>\n",
       "      <td>married</td>\n",
       "      <td>secondary</td>\n",
       "      <td>no</td>\n",
       "      <td>668.0</td>\n",
       "      <td>no</td>\n",
       "      <td>no</td>\n",
       "      <td>telephone</td>\n",
       "      <td>17.0</td>\n",
       "      <td>nov</td>\n",
       "      <td>508</td>\n",
       "      <td>4</td>\n",
       "      <td>-1.0</td>\n",
       "      <td>0</td>\n",
       "      <td>unknown</td>\n",
       "      <td>no</td>\n",
       "    </tr>\n",
       "    <tr>\n",
       "      <th>15110</th>\n",
       "      <td>37</td>\n",
       "      <td>entrepreneur</td>\n",
       "      <td>married</td>\n",
       "      <td>secondary</td>\n",
       "      <td>no</td>\n",
       "      <td>2971.0</td>\n",
       "      <td>no</td>\n",
       "      <td>no</td>\n",
       "      <td>cellular</td>\n",
       "      <td>17.0</td>\n",
       "      <td>nov</td>\n",
       "      <td>361</td>\n",
       "      <td>2</td>\n",
       "      <td>188.0</td>\n",
       "      <td>11</td>\n",
       "      <td>other</td>\n",
       "      <td>no</td>\n",
       "    </tr>\n",
       "  </tbody>\n",
       "</table>\n",
       "</div>"
      ],
      "text/plain": [
       "       age           job   marital  education default  balance housing loan  \\\n",
       "15106   51    technician   married   tertiary      no    825.0      no   no   \n",
       "15107   71       retired  divorced    primary      no   1729.0      no   no   \n",
       "15108   72       retired   married  secondary      no   5715.0      no   no   \n",
       "15109   57   blue-collar   married  secondary      no    668.0      no   no   \n",
       "15110   37  entrepreneur   married  secondary      no   2971.0      no   no   \n",
       "\n",
       "         contact   day month  duration  campaign  pdays  previous poutcome  \\\n",
       "15106   cellular  17.0   nov       977         3   -1.0         0  unknown   \n",
       "15107   cellular  17.0   nov       456         2   -1.0         0  unknown   \n",
       "15108   cellular  17.0   nov      1127         5  184.0         3  success   \n",
       "15109  telephone  17.0   nov       508         4   -1.0         0  unknown   \n",
       "15110   cellular  17.0   nov       361         2  188.0        11    other   \n",
       "\n",
       "      subscribed  \n",
       "15106        yes  \n",
       "15107        yes  \n",
       "15108        yes  \n",
       "15109         no  \n",
       "15110         no  "
      ]
     },
     "execution_count": 3,
     "metadata": {},
     "output_type": "execute_result"
    }
   ],
   "source": [
    "bank_df.tail()"
   ]
  },
  {
   "cell_type": "markdown",
   "metadata": {},
   "source": [
    "* `df.info()` gives you info about the data type for each column and the number of entries available for each column (you can the number of missing values)."
   ]
  },
  {
   "cell_type": "code",
   "execution_count": 4,
   "metadata": {},
   "outputs": [
    {
     "name": "stdout",
     "output_type": "stream",
     "text": [
      "<class 'pandas.core.frame.DataFrame'>\n",
      "RangeIndex: 15111 entries, 0 to 15110\n",
      "Data columns (total 17 columns):\n",
      "age           15111 non-null int64\n",
      "job           15042 non-null object\n",
      "marital       15099 non-null object\n",
      "education     15080 non-null object\n",
      "default       15060 non-null object\n",
      "balance       15110 non-null float64\n",
      "housing       15096 non-null object\n",
      "loan          15111 non-null object\n",
      "contact       15081 non-null object\n",
      "day           14988 non-null float64\n",
      "month         14999 non-null object\n",
      "duration      15111 non-null int64\n",
      "campaign      15111 non-null int64\n",
      "pdays         15091 non-null float64\n",
      "previous      15111 non-null int64\n",
      "poutcome      15111 non-null object\n",
      "subscribed    15111 non-null object\n",
      "dtypes: float64(3), int64(4), object(10)\n",
      "memory usage: 2.0+ MB\n"
     ]
    }
   ],
   "source": [
    "bank_df.info()"
   ]
  },
  {
   "cell_type": "markdown",
   "metadata": {},
   "source": [
    "From the output, we can tell the \n",
    "* the total number of entries: **15111**\n",
    "* the number of columns: **3+4+10**\n",
    "* type of data in each column: **3-float, 4-int, 10-object**\n",
    "* if there is missing data or not in each column.\n",
    "\n",
    "By doing a few calculations from the output above, one can deduce the number of missing data in each column. However, there the number of missing data in each column can be computed and displayed as follows."
   ]
  },
  {
   "cell_type": "code",
   "execution_count": 5,
   "metadata": {},
   "outputs": [
    {
     "name": "stdout",
     "output_type": "stream",
     "text": [
      "age             0\n",
      "job            69\n",
      "marital        12\n",
      "education      31\n",
      "default        51\n",
      "balance         1\n",
      "housing        15\n",
      "loan            0\n",
      "contact        30\n",
      "day           123\n",
      "month         112\n",
      "duration        0\n",
      "campaign        0\n",
      "pdays          20\n",
      "previous        0\n",
      "poutcome        0\n",
      "subscribed      0\n",
      "dtype: int64\n"
     ]
    },
    {
     "data": {
      "text/plain": [
       "age           0.000000\n",
       "job           0.456621\n",
       "marital       0.079412\n",
       "education     0.205149\n",
       "default       0.337502\n",
       "balance       0.006618\n",
       "housing       0.099265\n",
       "loan          0.000000\n",
       "contact       0.198531\n",
       "day           0.813977\n",
       "month         0.741182\n",
       "duration      0.000000\n",
       "campaign      0.000000\n",
       "pdays         0.132354\n",
       "previous      0.000000\n",
       "poutcome      0.000000\n",
       "subscribed    0.000000\n",
       "dtype: float64"
      ]
     },
     "execution_count": 5,
     "metadata": {},
     "output_type": "execute_result"
    }
   ],
   "source": [
    "print(bank_df.isnull().sum())\n",
    "# What percentage of data is missing in each column\n",
    "((bank_df.isnull().sum()/len(bank_df)))*100"
   ]
  },
  {
   "cell_type": "markdown",
   "metadata": {},
   "source": [
    "This last output in the cell above displays the percentage of data missing in each column and it is shown that not up 1% of data is missing in any of the columns. To drop missing data without interferign wiht some of its major characteristics, we have to ensure that the overall percentage of missing data is insignificant. In the followings cells, some calculations are done to determine the overall percentage of missing data"
   ]
  },
  {
   "cell_type": "code",
   "execution_count": 7,
   "metadata": {},
   "outputs": [
    {
     "name": "stdout",
     "output_type": "stream",
     "text": [
      "\n",
      "Overall percentage of missing data: 1.932367149758454\n"
     ]
    }
   ],
   "source": [
    "rows_before = bank_df.shape[0]\n",
    "bank_df.dropna(inplace =True)\n",
    "rows_after = bank_df.shape[0]\n",
    "\n",
    "percentage_missing = 100*(rows_before - rows_after)/rows_before\n",
    "print(f\"\\nOverall percentage of missing data: {percentage_missing}\")"
   ]
  },
  {
   "cell_type": "markdown",
   "metadata": {},
   "source": [
    "Hence dropping missing data reduces the available data just by 1.93237%. "
   ]
  },
  {
   "cell_type": "markdown",
   "metadata": {},
   "source": [
    "From the variable description, it was confusing as to whether the `unknown` value presented as one of the values on some columns above was equivalent to a `NaN` value. To check this, the different values in each column are displayed. A list oc columns with continuous data vlues is created to avoid a scenario of lengthy outputs."
   ]
  },
  {
   "cell_type": "code",
   "execution_count": 6,
   "metadata": {},
   "outputs": [
    {
     "name": "stdout",
     "output_type": "stream",
     "text": [
      "job:['management' 'technician' 'entrepreneur' 'blue-collar' 'unknown'\n",
      " 'retired' 'admin.' 'services' 'self-employed' 'unemployed' 'housemaid'\n",
      " 'student' nan]\n",
      "marital:['married' 'single' 'divorced' nan]\n",
      "education:['tertiary' 'secondary' 'unknown' 'primary' nan]\n",
      "default:['no' 'yes' nan]\n",
      "housing:['yes' 'no' nan]\n",
      "loan:['no' 'yes']\n",
      "contact:['unknown' 'cellular' 'telephone' nan]\n",
      "month:['may' nan 'jun' 'jul' 'aug' 'sep' 'oct' 'nov' 'dec' 'jan' 'feb' 'mar'\n",
      " 'apr']\n",
      "poutcome:['unknown' 'failure' 'other' 'success']\n",
      "subscribed:['no' 'yes']\n"
     ]
    }
   ],
   "source": [
    "none_cats = ['age', 'balance','day', 'duration', 'campaign', 'pdays', 'previous']\n",
    "# is unknown == nan?\n",
    "for col in bank_df.columns.values:\n",
    "    if col not in none_cats:\n",
    "        print(f\"{col}:{bank_df[col].unique()}\")    "
   ]
  },
  {
   "cell_type": "markdown",
   "metadata": {},
   "source": [
    "From the output, looking at the different unique values in the education column, there is `unknown` and `nan`. This soes same fo rthe contact and other columns. Hence, the conclusion that `unknown` is just another category in these column and does not represent a missing value."
   ]
  },
  {
   "cell_type": "markdown",
   "metadata": {},
   "source": [
    "To look at some statistical properties of the data, the `describe()` method is used."
   ]
  },
  {
   "cell_type": "code",
   "execution_count": 11,
   "metadata": {},
   "outputs": [
    {
     "data": {
      "text/html": [
       "<div>\n",
       "<style scoped>\n",
       "    .dataframe tbody tr th:only-of-type {\n",
       "        vertical-align: middle;\n",
       "    }\n",
       "\n",
       "    .dataframe tbody tr th {\n",
       "        vertical-align: top;\n",
       "    }\n",
       "\n",
       "    .dataframe thead th {\n",
       "        text-align: right;\n",
       "    }\n",
       "</style>\n",
       "<table border=\"1\" class=\"dataframe\">\n",
       "  <thead>\n",
       "    <tr style=\"text-align: right;\">\n",
       "      <th></th>\n",
       "      <th>age</th>\n",
       "      <th>balance</th>\n",
       "      <th>day</th>\n",
       "      <th>duration</th>\n",
       "      <th>campaign</th>\n",
       "      <th>pdays</th>\n",
       "      <th>previous</th>\n",
       "    </tr>\n",
       "  </thead>\n",
       "  <tbody>\n",
       "    <tr>\n",
       "      <th>count</th>\n",
       "      <td>14819.000000</td>\n",
       "      <td>14819.000000</td>\n",
       "      <td>14819.000000</td>\n",
       "      <td>14819.000000</td>\n",
       "      <td>14819.000000</td>\n",
       "      <td>14819.000000</td>\n",
       "      <td>14819.000000</td>\n",
       "    </tr>\n",
       "    <tr>\n",
       "      <th>mean</th>\n",
       "      <td>40.975234</td>\n",
       "      <td>1281.514272</td>\n",
       "      <td>13.336662</td>\n",
       "      <td>268.316756</td>\n",
       "      <td>2.282610</td>\n",
       "      <td>56.259532</td>\n",
       "      <td>0.862676</td>\n",
       "    </tr>\n",
       "    <tr>\n",
       "      <th>std</th>\n",
       "      <td>12.383537</td>\n",
       "      <td>3139.364696</td>\n",
       "      <td>6.913320</td>\n",
       "      <td>253.025171</td>\n",
       "      <td>2.156648</td>\n",
       "      <td>117.667974</td>\n",
       "      <td>2.286970</td>\n",
       "    </tr>\n",
       "    <tr>\n",
       "      <th>min</th>\n",
       "      <td>18.000000</td>\n",
       "      <td>-8019.000000</td>\n",
       "      <td>1.000000</td>\n",
       "      <td>1.000000</td>\n",
       "      <td>1.000000</td>\n",
       "      <td>-1.000000</td>\n",
       "      <td>0.000000</td>\n",
       "    </tr>\n",
       "    <tr>\n",
       "      <th>25%</th>\n",
       "      <td>31.000000</td>\n",
       "      <td>70.000000</td>\n",
       "      <td>8.000000</td>\n",
       "      <td>114.500000</td>\n",
       "      <td>1.000000</td>\n",
       "      <td>-1.000000</td>\n",
       "      <td>0.000000</td>\n",
       "    </tr>\n",
       "    <tr>\n",
       "      <th>50%</th>\n",
       "      <td>38.000000</td>\n",
       "      <td>393.000000</td>\n",
       "      <td>13.000000</td>\n",
       "      <td>195.000000</td>\n",
       "      <td>2.000000</td>\n",
       "      <td>-1.000000</td>\n",
       "      <td>0.000000</td>\n",
       "    </tr>\n",
       "    <tr>\n",
       "      <th>75%</th>\n",
       "      <td>49.000000</td>\n",
       "      <td>1328.000000</td>\n",
       "      <td>18.000000</td>\n",
       "      <td>333.000000</td>\n",
       "      <td>3.000000</td>\n",
       "      <td>75.000000</td>\n",
       "      <td>1.000000</td>\n",
       "    </tr>\n",
       "    <tr>\n",
       "      <th>max</th>\n",
       "      <td>95.000000</td>\n",
       "      <td>102127.000000</td>\n",
       "      <td>31.000000</td>\n",
       "      <td>3785.000000</td>\n",
       "      <td>43.000000</td>\n",
       "      <td>871.000000</td>\n",
       "      <td>58.000000</td>\n",
       "    </tr>\n",
       "  </tbody>\n",
       "</table>\n",
       "</div>"
      ],
      "text/plain": [
       "                age        balance           day      duration      campaign  \\\n",
       "count  14819.000000   14819.000000  14819.000000  14819.000000  14819.000000   \n",
       "mean      40.975234    1281.514272     13.336662    268.316756      2.282610   \n",
       "std       12.383537    3139.364696      6.913320    253.025171      2.156648   \n",
       "min       18.000000   -8019.000000      1.000000      1.000000      1.000000   \n",
       "25%       31.000000      70.000000      8.000000    114.500000      1.000000   \n",
       "50%       38.000000     393.000000     13.000000    195.000000      2.000000   \n",
       "75%       49.000000    1328.000000     18.000000    333.000000      3.000000   \n",
       "max       95.000000  102127.000000     31.000000   3785.000000     43.000000   \n",
       "\n",
       "              pdays      previous  \n",
       "count  14819.000000  14819.000000  \n",
       "mean      56.259532      0.862676  \n",
       "std      117.667974      2.286970  \n",
       "min       -1.000000      0.000000  \n",
       "25%       -1.000000      0.000000  \n",
       "50%       -1.000000      0.000000  \n",
       "75%       75.000000      1.000000  \n",
       "max      871.000000     58.000000  "
      ]
     },
     "execution_count": 11,
     "metadata": {},
     "output_type": "execute_result"
    }
   ],
   "source": [
    "bank_df.describe() # for numerical data only"
   ]
  },
  {
   "cell_type": "markdown",
   "metadata": {},
   "source": [
    "From the output, we can see the mean, the std, the min, max etc for the columns with numerical data. Looking at the statistics for the `balance` column, the high value of the `std` suggests the existence of outliers. Also, the difference between the `mean` value and the `max` value is huge. Hence, the possibility of outliers in the dataset. One can go ahead to confirm the existence of outliers by looking at the data distribution where skewed distributions suggest presence of outliers.\n",
    "\n",
    "If you want to look at some statistical values for the categorical values, `all` is entered for the `include` parameter as can be seen below."
   ]
  },
  {
   "cell_type": "code",
   "execution_count": 13,
   "metadata": {},
   "outputs": [
    {
     "data": {
      "text/html": [
       "<div>\n",
       "<style scoped>\n",
       "    .dataframe tbody tr th:only-of-type {\n",
       "        vertical-align: middle;\n",
       "    }\n",
       "\n",
       "    .dataframe tbody tr th {\n",
       "        vertical-align: top;\n",
       "    }\n",
       "\n",
       "    .dataframe thead th {\n",
       "        text-align: right;\n",
       "    }\n",
       "</style>\n",
       "<table border=\"1\" class=\"dataframe\">\n",
       "  <thead>\n",
       "    <tr style=\"text-align: right;\">\n",
       "      <th></th>\n",
       "      <th>age</th>\n",
       "      <th>job</th>\n",
       "      <th>marital</th>\n",
       "      <th>education</th>\n",
       "      <th>default</th>\n",
       "      <th>balance</th>\n",
       "      <th>housing</th>\n",
       "      <th>loan</th>\n",
       "      <th>contact</th>\n",
       "      <th>day</th>\n",
       "      <th>month</th>\n",
       "      <th>duration</th>\n",
       "      <th>campaign</th>\n",
       "      <th>pdays</th>\n",
       "      <th>previous</th>\n",
       "      <th>poutcome</th>\n",
       "      <th>subscribed</th>\n",
       "    </tr>\n",
       "  </thead>\n",
       "  <tbody>\n",
       "    <tr>\n",
       "      <th>count</th>\n",
       "      <td>14819.000000</td>\n",
       "      <td>14819</td>\n",
       "      <td>14819</td>\n",
       "      <td>14819</td>\n",
       "      <td>14819</td>\n",
       "      <td>14819.000000</td>\n",
       "      <td>14819</td>\n",
       "      <td>14819</td>\n",
       "      <td>14819</td>\n",
       "      <td>14819.000000</td>\n",
       "      <td>14819</td>\n",
       "      <td>14819.000000</td>\n",
       "      <td>14819.000000</td>\n",
       "      <td>14819.000000</td>\n",
       "      <td>14819.000000</td>\n",
       "      <td>14819</td>\n",
       "      <td>14819</td>\n",
       "    </tr>\n",
       "    <tr>\n",
       "      <th>unique</th>\n",
       "      <td>NaN</td>\n",
       "      <td>12</td>\n",
       "      <td>3</td>\n",
       "      <td>4</td>\n",
       "      <td>2</td>\n",
       "      <td>NaN</td>\n",
       "      <td>2</td>\n",
       "      <td>2</td>\n",
       "      <td>3</td>\n",
       "      <td>NaN</td>\n",
       "      <td>12</td>\n",
       "      <td>NaN</td>\n",
       "      <td>NaN</td>\n",
       "      <td>NaN</td>\n",
       "      <td>NaN</td>\n",
       "      <td>4</td>\n",
       "      <td>2</td>\n",
       "    </tr>\n",
       "    <tr>\n",
       "      <th>top</th>\n",
       "      <td>NaN</td>\n",
       "      <td>blue-collar</td>\n",
       "      <td>married</td>\n",
       "      <td>secondary</td>\n",
       "      <td>no</td>\n",
       "      <td>NaN</td>\n",
       "      <td>yes</td>\n",
       "      <td>no</td>\n",
       "      <td>cellular</td>\n",
       "      <td>NaN</td>\n",
       "      <td>may</td>\n",
       "      <td>NaN</td>\n",
       "      <td>NaN</td>\n",
       "      <td>NaN</td>\n",
       "      <td>NaN</td>\n",
       "      <td>unknown</td>\n",
       "      <td>no</td>\n",
       "    </tr>\n",
       "    <tr>\n",
       "      <th>freq</th>\n",
       "      <td>NaN</td>\n",
       "      <td>3090</td>\n",
       "      <td>8445</td>\n",
       "      <td>7545</td>\n",
       "      <td>14585</td>\n",
       "      <td>NaN</td>\n",
       "      <td>7836</td>\n",
       "      <td>12364</td>\n",
       "      <td>9856</td>\n",
       "      <td>NaN</td>\n",
       "      <td>5714</td>\n",
       "      <td>NaN</td>\n",
       "      <td>NaN</td>\n",
       "      <td>NaN</td>\n",
       "      <td>NaN</td>\n",
       "      <td>10928</td>\n",
       "      <td>11788</td>\n",
       "    </tr>\n",
       "    <tr>\n",
       "      <th>mean</th>\n",
       "      <td>40.975234</td>\n",
       "      <td>NaN</td>\n",
       "      <td>NaN</td>\n",
       "      <td>NaN</td>\n",
       "      <td>NaN</td>\n",
       "      <td>1281.514272</td>\n",
       "      <td>NaN</td>\n",
       "      <td>NaN</td>\n",
       "      <td>NaN</td>\n",
       "      <td>13.336662</td>\n",
       "      <td>NaN</td>\n",
       "      <td>268.316756</td>\n",
       "      <td>2.282610</td>\n",
       "      <td>56.259532</td>\n",
       "      <td>0.862676</td>\n",
       "      <td>NaN</td>\n",
       "      <td>NaN</td>\n",
       "    </tr>\n",
       "    <tr>\n",
       "      <th>std</th>\n",
       "      <td>12.383537</td>\n",
       "      <td>NaN</td>\n",
       "      <td>NaN</td>\n",
       "      <td>NaN</td>\n",
       "      <td>NaN</td>\n",
       "      <td>3139.364696</td>\n",
       "      <td>NaN</td>\n",
       "      <td>NaN</td>\n",
       "      <td>NaN</td>\n",
       "      <td>6.913320</td>\n",
       "      <td>NaN</td>\n",
       "      <td>253.025171</td>\n",
       "      <td>2.156648</td>\n",
       "      <td>117.667974</td>\n",
       "      <td>2.286970</td>\n",
       "      <td>NaN</td>\n",
       "      <td>NaN</td>\n",
       "    </tr>\n",
       "    <tr>\n",
       "      <th>min</th>\n",
       "      <td>18.000000</td>\n",
       "      <td>NaN</td>\n",
       "      <td>NaN</td>\n",
       "      <td>NaN</td>\n",
       "      <td>NaN</td>\n",
       "      <td>-8019.000000</td>\n",
       "      <td>NaN</td>\n",
       "      <td>NaN</td>\n",
       "      <td>NaN</td>\n",
       "      <td>1.000000</td>\n",
       "      <td>NaN</td>\n",
       "      <td>1.000000</td>\n",
       "      <td>1.000000</td>\n",
       "      <td>-1.000000</td>\n",
       "      <td>0.000000</td>\n",
       "      <td>NaN</td>\n",
       "      <td>NaN</td>\n",
       "    </tr>\n",
       "    <tr>\n",
       "      <th>25%</th>\n",
       "      <td>31.000000</td>\n",
       "      <td>NaN</td>\n",
       "      <td>NaN</td>\n",
       "      <td>NaN</td>\n",
       "      <td>NaN</td>\n",
       "      <td>70.000000</td>\n",
       "      <td>NaN</td>\n",
       "      <td>NaN</td>\n",
       "      <td>NaN</td>\n",
       "      <td>8.000000</td>\n",
       "      <td>NaN</td>\n",
       "      <td>114.500000</td>\n",
       "      <td>1.000000</td>\n",
       "      <td>-1.000000</td>\n",
       "      <td>0.000000</td>\n",
       "      <td>NaN</td>\n",
       "      <td>NaN</td>\n",
       "    </tr>\n",
       "    <tr>\n",
       "      <th>50%</th>\n",
       "      <td>38.000000</td>\n",
       "      <td>NaN</td>\n",
       "      <td>NaN</td>\n",
       "      <td>NaN</td>\n",
       "      <td>NaN</td>\n",
       "      <td>393.000000</td>\n",
       "      <td>NaN</td>\n",
       "      <td>NaN</td>\n",
       "      <td>NaN</td>\n",
       "      <td>13.000000</td>\n",
       "      <td>NaN</td>\n",
       "      <td>195.000000</td>\n",
       "      <td>2.000000</td>\n",
       "      <td>-1.000000</td>\n",
       "      <td>0.000000</td>\n",
       "      <td>NaN</td>\n",
       "      <td>NaN</td>\n",
       "    </tr>\n",
       "    <tr>\n",
       "      <th>75%</th>\n",
       "      <td>49.000000</td>\n",
       "      <td>NaN</td>\n",
       "      <td>NaN</td>\n",
       "      <td>NaN</td>\n",
       "      <td>NaN</td>\n",
       "      <td>1328.000000</td>\n",
       "      <td>NaN</td>\n",
       "      <td>NaN</td>\n",
       "      <td>NaN</td>\n",
       "      <td>18.000000</td>\n",
       "      <td>NaN</td>\n",
       "      <td>333.000000</td>\n",
       "      <td>3.000000</td>\n",
       "      <td>75.000000</td>\n",
       "      <td>1.000000</td>\n",
       "      <td>NaN</td>\n",
       "      <td>NaN</td>\n",
       "    </tr>\n",
       "    <tr>\n",
       "      <th>max</th>\n",
       "      <td>95.000000</td>\n",
       "      <td>NaN</td>\n",
       "      <td>NaN</td>\n",
       "      <td>NaN</td>\n",
       "      <td>NaN</td>\n",
       "      <td>102127.000000</td>\n",
       "      <td>NaN</td>\n",
       "      <td>NaN</td>\n",
       "      <td>NaN</td>\n",
       "      <td>31.000000</td>\n",
       "      <td>NaN</td>\n",
       "      <td>3785.000000</td>\n",
       "      <td>43.000000</td>\n",
       "      <td>871.000000</td>\n",
       "      <td>58.000000</td>\n",
       "      <td>NaN</td>\n",
       "      <td>NaN</td>\n",
       "    </tr>\n",
       "  </tbody>\n",
       "</table>\n",
       "</div>"
      ],
      "text/plain": [
       "                 age          job  marital  education default        balance  \\\n",
       "count   14819.000000        14819    14819      14819   14819   14819.000000   \n",
       "unique           NaN           12        3          4       2            NaN   \n",
       "top              NaN  blue-collar  married  secondary      no            NaN   \n",
       "freq             NaN         3090     8445       7545   14585            NaN   \n",
       "mean       40.975234          NaN      NaN        NaN     NaN    1281.514272   \n",
       "std        12.383537          NaN      NaN        NaN     NaN    3139.364696   \n",
       "min        18.000000          NaN      NaN        NaN     NaN   -8019.000000   \n",
       "25%        31.000000          NaN      NaN        NaN     NaN      70.000000   \n",
       "50%        38.000000          NaN      NaN        NaN     NaN     393.000000   \n",
       "75%        49.000000          NaN      NaN        NaN     NaN    1328.000000   \n",
       "max        95.000000          NaN      NaN        NaN     NaN  102127.000000   \n",
       "\n",
       "       housing   loan   contact           day  month      duration  \\\n",
       "count    14819  14819     14819  14819.000000  14819  14819.000000   \n",
       "unique       2      2         3           NaN     12           NaN   \n",
       "top        yes     no  cellular           NaN    may           NaN   \n",
       "freq      7836  12364      9856           NaN   5714           NaN   \n",
       "mean       NaN    NaN       NaN     13.336662    NaN    268.316756   \n",
       "std        NaN    NaN       NaN      6.913320    NaN    253.025171   \n",
       "min        NaN    NaN       NaN      1.000000    NaN      1.000000   \n",
       "25%        NaN    NaN       NaN      8.000000    NaN    114.500000   \n",
       "50%        NaN    NaN       NaN     13.000000    NaN    195.000000   \n",
       "75%        NaN    NaN       NaN     18.000000    NaN    333.000000   \n",
       "max        NaN    NaN       NaN     31.000000    NaN   3785.000000   \n",
       "\n",
       "            campaign         pdays      previous poutcome subscribed  \n",
       "count   14819.000000  14819.000000  14819.000000    14819      14819  \n",
       "unique           NaN           NaN           NaN        4          2  \n",
       "top              NaN           NaN           NaN  unknown         no  \n",
       "freq             NaN           NaN           NaN    10928      11788  \n",
       "mean        2.282610     56.259532      0.862676      NaN        NaN  \n",
       "std         2.156648    117.667974      2.286970      NaN        NaN  \n",
       "min         1.000000     -1.000000      0.000000      NaN        NaN  \n",
       "25%         1.000000     -1.000000      0.000000      NaN        NaN  \n",
       "50%         2.000000     -1.000000      0.000000      NaN        NaN  \n",
       "75%         3.000000     75.000000      1.000000      NaN        NaN  \n",
       "max        43.000000    871.000000     58.000000      NaN        NaN  "
      ]
     },
     "execution_count": 13,
     "metadata": {},
     "output_type": "execute_result"
    }
   ],
   "source": [
    "bank_df.describe(include='all') # for all columns including the ones with object data type"
   ]
  },
  {
   "cell_type": "markdown",
   "metadata": {},
   "source": [
    "**Top** indicates the **mode** of the column"
   ]
  },
  {
   "cell_type": "code",
   "execution_count": 14,
   "metadata": {},
   "outputs": [
    {
     "data": {
      "text/plain": [
       "<matplotlib.axes._subplots.AxesSubplot at 0x223b7762400>"
      ]
     },
     "execution_count": 14,
     "metadata": {},
     "output_type": "execute_result"
    },
    {
     "data": {
      "image/png": "[encoded data removed]",
      "text/plain": [
       "<Figure size 1296x864 with 1 Axes>"
      ]
     },
     "metadata": {
      "needs_background": "light"
     },
     "output_type": "display_data"
    }
   ],
   "source": [
    "plt.figure(figsize=(18, 12))\n",
    "bank_df.boxplot()"
   ]
  },
  {
   "cell_type": "markdown",
   "metadata": {},
   "source": [
    "Plot histograms of each of the features and the dependent variable\n",
    "\n",
    "* Are the variables normally distributed?\n",
    "\n",
    "best way to calculate the bins\n",
    "\n",
    "https://www.statisticshowto.com/choose-bin-sizes-statistics/\n",
    "https://stackoverflow.com/questions/33458566/how-to-choose-bins-in-matplotlib-histogram\n",
    "\n",
    "R(n^(1/3))/(3.49σ)\n",
    "\n",
    "where\n",
    "\n",
    "* R is the range of data,\n",
    "* n is the number of samples,\n",
    "* σ is your standard deviation.\n",
    "\n",
    "Data in a statistical distribution is said to be skewed when the distrbution weighs more on the left or on the right. This basically implies that, in a skewed distribution, there is more data to the left or right. A normal distribution describes a situation where there is about as many data pointts on the left as there are on the right of the median. Normal distrbutions happen to be rare in real life data. These have some adverse effects on statistical models.\n",
    "\n",
    "In skewed data, the tail usually is a representation of outliers which have proven to have negative effects on machine learning models. Knowing that outliers have negative effects on model performance, there is need for the data to transformed close enough to a normal distribution.\n",
    "\n",
    "Log transformation is one such strategy used for rthe transformation of skewed data. It helps to transform a skewed distribution close enough to a Gaussian or nomal distribution. This transformation can help use discover patterns that are more intuitive with respect to the task at hand.\n",
    "\n",
    "From [here](https://www.analyticsvidhya.com/blog/2020/04/feature-scaling-machine-learning-normalization-standardization/), it is advisable to use normalization instead of standardization in the case of data that does not follow a normal Gaussion distribution.\n"
   ]
  },
  {
   "cell_type": "code",
   "execution_count": 15,
   "metadata": {},
   "outputs": [],
   "source": [
    "def getbins(df, col):\n",
    "    n = len(df[col])\n",
    "    r = df[col].max() - df[col].min()\n",
    "    std = df[col].std()\n",
    "    bins = int(r*(n**(1/3))/(3.49*std))\n",
    "    return bins"
   ]
  },
  {
   "cell_type": "code",
   "execution_count": 16,
   "metadata": {
    "scrolled": false
   },
   "outputs": [
    {
     "name": "stdout",
     "output_type": "stream",
     "text": [
      "Median of age is: 38.0\n"
     ]
    },
    {
     "data": {
      "image/png": "[encoded data removed]",
      "text/plain": [
       "<Figure size 720x576 with 1 Axes>"
      ]
     },
     "metadata": {
      "needs_background": "light"
     },
     "output_type": "display_data"
    },
    {
     "name": "stdout",
     "output_type": "stream",
     "text": [
      "Median of balance is: 393.0\n"
     ]
    },
    {
     "data": {
      "image/png": "[encoded data removed]",
      "text/plain": [
       "<Figure size 720x576 with 1 Axes>"
      ]
     },
     "metadata": {
      "needs_background": "light"
     },
     "output_type": "display_data"
    },
    {
     "name": "stdout",
     "output_type": "stream",
     "text": [
      "Median of day is: 13.0\n"
     ]
    },
    {
     "data": {
      "image/png": "[encoded data removed]",
      "text/plain": [
       "<Figure size 720x576 with 1 Axes>"
      ]
     },
     "metadata": {
      "needs_background": "light"
     },
     "output_type": "display_data"
    },
    {
     "name": "stdout",
     "output_type": "stream",
     "text": [
      "Median of duration is: 195.0\n"
     ]
    },
    {
     "data": {
      "image/png": "[encoded data removed]",
      "text/plain": [
       "<Figure size 720x576 with 1 Axes>"
      ]
     },
     "metadata": {
      "needs_background": "light"
     },
     "output_type": "display_data"
    },
    {
     "name": "stdout",
     "output_type": "stream",
     "text": [
      "Median of campaign is: 2.0\n"
     ]
    },
    {
     "data": {
      "image/png": "[encoded data removed]",
      "text/plain": [
       "<Figure size 720x576 with 1 Axes>"
      ]
     },
     "metadata": {
      "needs_background": "light"
     },
     "output_type": "display_data"
    },
    {
     "name": "stdout",
     "output_type": "stream",
     "text": [
      "Median of pdays is: -1.0\n"
     ]
    },
    {
     "data": {
      "image/png": "[encoded data removed]",
      "text/plain": [
       "<Figure size 720x576 with 1 Axes>"
      ]
     },
     "metadata": {
      "needs_background": "light"
     },
     "output_type": "display_data"
    },
    {
     "name": "stdout",
     "output_type": "stream",
     "text": [
      "Median of previous is: 0.0\n"
     ]
    },
    {
     "data": {
      "image/png": "[encoded data removed]",
      "text/plain": [
       "<Figure size 720x576 with 1 Axes>"
      ]
     },
     "metadata": {
      "needs_background": "light"
     },
     "output_type": "display_data"
    }
   ],
   "source": [
    "count = 0\n",
    "for col in none_cats:\n",
    "    colors = ['purple', 'green', 'darkblue', 'maroon','teal', 'indigo', 'crimson']\n",
    "    try:\n",
    "        df = bank_df[col]\n",
    "        plt.figure(figsize=(10, 8))\n",
    "        bns = getbins(bank_df, col)\n",
    "        plt.hist(df.values,bins=bns, color=colors[count] )\n",
    "        print(f\"Median of {col} is: {df.median()}\")\n",
    "        plt.title(\"Histogram for \" + col+ \" with skew value {:.3f}\".format(skew(df.values)), fontsize=14, fontweight='bold')\n",
    "        plt.xlabel(col +\" measurements\")\n",
    "        plt.ylabel(\"Frequency count\")\n",
    "        plt.show()\n",
    "        count = count +1\n",
    "    except TypeError:\n",
    "        pass"
   ]
  },
  {
   "cell_type": "markdown",
   "metadata": {},
   "source": [
    "Most machine learning algorithms if nto all, work best with numerical data. In the available dataset, we have categorical variables. To continue with this, there is need for data transformation to numerical values. There are several approaches to this.\n",
    "* OneHotEncoding\n",
    "* LabelEncoding\n",
    "\n",
    "With [Label Encoding](https://www.analyticsvidhya.com/blog/2020/03/one-hot-encoding-vs-label-encoding-using-scikit-learn/), each category is assigned a unique numerical value with respect to its alphabetical position compared to the other categories. It encodes with values from 0 to *number of categories -1*. The challenge with this is, there is implicit assumption of order among the categories hence giving some degree of importance to some categories.\n",
    "\n",
    "With [OneHotEncoding](https://www.analyticsvidhya.com/blog/2020/03/one-hot-encoding-vs-label-encoding-using-scikit-learn/), each category is represented as a one-hot vector. It is basically the process of creating dummy variables. Its limitation is based on the fact that it leads to the creation of many new columns hence increasing the dimensionality of the dataset. It also results in a **Dummy Variable Trap**. This basically describes in situation where one dummy variable can be easily predicted from the other dummy variables and hence we are facing the case of **Multicollinearity** which has its negative effects on machine learnimg models such as overfitting. One way to deal with this as proposed in the link above is to drop one of the dummy variable columns.\n",
    "\n",
    "In the following cells, I have used the `get_dummies()` function for the conversion of categorical data to numerical data for the following reasons.\n",
    "* it does pretty much the same thing as onehotencoding.\n",
    "* it had a drop_first argument that I can set to True to deal with the Dummy Variable Trap problem.\n",
    "* it automatically detects the categorical variables in the dataset and create corresponding dummy variables."
   ]
  },
  {
   "cell_type": "code",
   "execution_count": 17,
   "metadata": {},
   "outputs": [],
   "source": [
    "bank_df = pd.get_dummies(bank_df, drop_first=True)"
   ]
  },
  {
   "cell_type": "code",
   "execution_count": 18,
   "metadata": {},
   "outputs": [
    {
     "data": {
      "text/plain": [
       "0    11788\n",
       "1     3031\n",
       "Name: subscribed_yes, dtype: int64"
      ]
     },
     "execution_count": 18,
     "metadata": {},
     "output_type": "execute_result"
    }
   ],
   "source": [
    "# ensure that the statistics remain the same as earlier\n",
    "bank_df['subscribed_yes'].value_counts()"
   ]
  },
  {
   "cell_type": "markdown",
   "metadata": {},
   "source": [
    "* Differentiate between the dependent(target) and the independent variables \n",
    "* In the case, our target variable is the `subscribed_yes`\n",
    "* Display few rows to ensure that these variables are in accord with our expectations."
   ]
  },
  {
   "cell_type": "code",
   "execution_count": 19,
   "metadata": {},
   "outputs": [
    {
     "data": {
      "text/plain": [
       "0    0\n",
       "1    0\n",
       "2    0\n",
       "3    0\n",
       "4    0\n",
       "Name: subscribed_yes, dtype: uint8"
      ]
     },
     "execution_count": 19,
     "metadata": {},
     "output_type": "execute_result"
    }
   ],
   "source": [
    "y = bank_df['subscribed_yes']\n",
    "X = bank_df.drop('subscribed_yes', axis = 1)\n",
    "y.head()"
   ]
  },
  {
   "cell_type": "code",
   "execution_count": 36,
   "metadata": {},
   "outputs": [
    {
     "name": "stdout",
     "output_type": "stream",
     "text": [
      "(14819, 42)\n"
     ]
    },
    {
     "data": {
      "text/html": [
       "<div>\n",
       "<style scoped>\n",
       "    .dataframe tbody tr th:only-of-type {\n",
       "        vertical-align: middle;\n",
       "    }\n",
       "\n",
       "    .dataframe tbody tr th {\n",
       "        vertical-align: top;\n",
       "    }\n",
       "\n",
       "    .dataframe thead th {\n",
       "        text-align: right;\n",
       "    }\n",
       "</style>\n",
       "<table border=\"1\" class=\"dataframe\">\n",
       "  <thead>\n",
       "    <tr style=\"text-align: right;\">\n",
       "      <th></th>\n",
       "      <th>age</th>\n",
       "      <th>balance</th>\n",
       "      <th>day</th>\n",
       "      <th>duration</th>\n",
       "      <th>campaign</th>\n",
       "      <th>pdays</th>\n",
       "      <th>previous</th>\n",
       "      <th>job_blue-collar</th>\n",
       "      <th>job_entrepreneur</th>\n",
       "      <th>job_housemaid</th>\n",
       "      <th>...</th>\n",
       "      <th>month_jul</th>\n",
       "      <th>month_jun</th>\n",
       "      <th>month_mar</th>\n",
       "      <th>month_may</th>\n",
       "      <th>month_nov</th>\n",
       "      <th>month_oct</th>\n",
       "      <th>month_sep</th>\n",
       "      <th>poutcome_other</th>\n",
       "      <th>poutcome_success</th>\n",
       "      <th>poutcome_unknown</th>\n",
       "    </tr>\n",
       "  </thead>\n",
       "  <tbody>\n",
       "    <tr>\n",
       "      <th>0</th>\n",
       "      <td>58</td>\n",
       "      <td>2143.0</td>\n",
       "      <td>5.0</td>\n",
       "      <td>261</td>\n",
       "      <td>1</td>\n",
       "      <td>-1.0</td>\n",
       "      <td>0</td>\n",
       "      <td>0</td>\n",
       "      <td>0</td>\n",
       "      <td>0</td>\n",
       "      <td>...</td>\n",
       "      <td>0</td>\n",
       "      <td>0</td>\n",
       "      <td>0</td>\n",
       "      <td>1</td>\n",
       "      <td>0</td>\n",
       "      <td>0</td>\n",
       "      <td>0</td>\n",
       "      <td>0</td>\n",
       "      <td>0</td>\n",
       "      <td>1</td>\n",
       "    </tr>\n",
       "    <tr>\n",
       "      <th>1</th>\n",
       "      <td>44</td>\n",
       "      <td>29.0</td>\n",
       "      <td>5.0</td>\n",
       "      <td>151</td>\n",
       "      <td>1</td>\n",
       "      <td>-1.0</td>\n",
       "      <td>0</td>\n",
       "      <td>0</td>\n",
       "      <td>0</td>\n",
       "      <td>0</td>\n",
       "      <td>...</td>\n",
       "      <td>0</td>\n",
       "      <td>0</td>\n",
       "      <td>0</td>\n",
       "      <td>1</td>\n",
       "      <td>0</td>\n",
       "      <td>0</td>\n",
       "      <td>0</td>\n",
       "      <td>0</td>\n",
       "      <td>0</td>\n",
       "      <td>1</td>\n",
       "    </tr>\n",
       "    <tr>\n",
       "      <th>2</th>\n",
       "      <td>33</td>\n",
       "      <td>2.0</td>\n",
       "      <td>5.0</td>\n",
       "      <td>76</td>\n",
       "      <td>1</td>\n",
       "      <td>-1.0</td>\n",
       "      <td>0</td>\n",
       "      <td>0</td>\n",
       "      <td>1</td>\n",
       "      <td>0</td>\n",
       "      <td>...</td>\n",
       "      <td>0</td>\n",
       "      <td>0</td>\n",
       "      <td>0</td>\n",
       "      <td>1</td>\n",
       "      <td>0</td>\n",
       "      <td>0</td>\n",
       "      <td>0</td>\n",
       "      <td>0</td>\n",
       "      <td>0</td>\n",
       "      <td>1</td>\n",
       "    </tr>\n",
       "    <tr>\n",
       "      <th>3</th>\n",
       "      <td>47</td>\n",
       "      <td>1506.0</td>\n",
       "      <td>5.0</td>\n",
       "      <td>92</td>\n",
       "      <td>1</td>\n",
       "      <td>-1.0</td>\n",
       "      <td>0</td>\n",
       "      <td>1</td>\n",
       "      <td>0</td>\n",
       "      <td>0</td>\n",
       "      <td>...</td>\n",
       "      <td>0</td>\n",
       "      <td>0</td>\n",
       "      <td>0</td>\n",
       "      <td>1</td>\n",
       "      <td>0</td>\n",
       "      <td>0</td>\n",
       "      <td>0</td>\n",
       "      <td>0</td>\n",
       "      <td>0</td>\n",
       "      <td>1</td>\n",
       "    </tr>\n",
       "    <tr>\n",
       "      <th>4</th>\n",
       "      <td>33</td>\n",
       "      <td>1.0</td>\n",
       "      <td>5.0</td>\n",
       "      <td>198</td>\n",
       "      <td>1</td>\n",
       "      <td>-1.0</td>\n",
       "      <td>0</td>\n",
       "      <td>0</td>\n",
       "      <td>0</td>\n",
       "      <td>0</td>\n",
       "      <td>...</td>\n",
       "      <td>0</td>\n",
       "      <td>0</td>\n",
       "      <td>0</td>\n",
       "      <td>1</td>\n",
       "      <td>0</td>\n",
       "      <td>0</td>\n",
       "      <td>0</td>\n",
       "      <td>0</td>\n",
       "      <td>0</td>\n",
       "      <td>1</td>\n",
       "    </tr>\n",
       "  </tbody>\n",
       "</table>\n",
       "<p>5 rows × 42 columns</p>\n",
       "</div>"
      ],
      "text/plain": [
       "   age  balance  day  duration  campaign  pdays  previous  job_blue-collar  \\\n",
       "0   58   2143.0  5.0       261         1   -1.0         0                0   \n",
       "1   44     29.0  5.0       151         1   -1.0         0                0   \n",
       "2   33      2.0  5.0        76         1   -1.0         0                0   \n",
       "3   47   1506.0  5.0        92         1   -1.0         0                1   \n",
       "4   33      1.0  5.0       198         1   -1.0         0                0   \n",
       "\n",
       "   job_entrepreneur  job_housemaid  ...  month_jul  month_jun  month_mar  \\\n",
       "0                 0              0  ...          0          0          0   \n",
       "1                 0              0  ...          0          0          0   \n",
       "2                 1              0  ...          0          0          0   \n",
       "3                 0              0  ...          0          0          0   \n",
       "4                 0              0  ...          0          0          0   \n",
       "\n",
       "   month_may  month_nov  month_oct  month_sep  poutcome_other  \\\n",
       "0          1          0          0          0               0   \n",
       "1          1          0          0          0               0   \n",
       "2          1          0          0          0               0   \n",
       "3          1          0          0          0               0   \n",
       "4          1          0          0          0               0   \n",
       "\n",
       "   poutcome_success  poutcome_unknown  \n",
       "0                 0                 1  \n",
       "1                 0                 1  \n",
       "2                 0                 1  \n",
       "3                 0                 1  \n",
       "4                 0                 1  \n",
       "\n",
       "[5 rows x 42 columns]"
      ]
     },
     "execution_count": 36,
     "metadata": {},
     "output_type": "execute_result"
    }
   ],
   "source": [
    "print(X.shape)\n",
    "X.head()"
   ]
  },
  {
   "cell_type": "markdown",
   "metadata": {},
   "source": [
    "In the output above, scroll right to ensure that the `subscribed_yes` variable is not in X.\n",
    "\n",
    "#### Training and Testing Sets\n",
    "To proceed with the modelling we need the training and testing datasets. This `sklearn` function `train_test_split` is used to split the data into the training and the testing testing sets. It is good to point it out here that there is no rule of thumb for train-test split ratio. This depends very much on the dataset and on the technique to be adopted. It is adviced to have a larger training set. By having a larger training set, your algorithm gets the chance to have a good understanding of the data. With a better understanding of the data, the model has the tendency of making better predictions.\n",
    "\n",
    "Here, I have used a 70:30 percent ratio for the training and the testing data respectively."
   ]
  },
  {
   "cell_type": "code",
   "execution_count": 21,
   "metadata": {},
   "outputs": [],
   "source": [
    "X_train, X_test, y_train, y_test = train_test_split(X, y, test_size=0.30, random_state=42)"
   ]
  },
  {
   "cell_type": "markdown",
   "metadata": {},
   "source": [
    "#### Feature scaling.\n",
    "The describes the process of transforming data to fit a particular range. While this is considered to be a very crucial step in data modelling because some algorithms are very sensitive to data values, some algorithms are just invariant with or without feature scaling. The idea behind feature scaling to make it possible for different features to contribute equally to the final result avoiding a situation where features with higher values are considered to have some degree of importance compared to the other features. There are many different approaches to addressing this with the two most common being\n",
    "* normalization\n",
    "* standardization\n",
    "\n",
    "According to [this](https://www.analyticsvidhya.com/blog/2020/04/feature-scaling-machine-learning-normalization-standardization/), **normalization** is preferable when the data does nto follow a Gaussiain distribution. Having plotted the histograms of the different numerical columns, it is clear that none of these columns have a normal or Gaussian distribution. Hence, the reason why I have used the normalization approach."
   ]
  },
  {
   "cell_type": "code",
   "execution_count": 22,
   "metadata": {},
   "outputs": [],
   "source": [
    "# fit scaler on training data\n",
    "norm = MinMaxScaler().fit(X_train)\n",
    "# transform training data\n",
    "normalized_X_train = norm.transform(X_train)\n",
    "# transform testing dataabs\n",
    "normalized_X_test = norm.transform(X_test)"
   ]
  },
  {
   "cell_type": "code",
   "execution_count": 25,
   "metadata": {},
   "outputs": [],
   "source": [
    "def train_predict(X_train, X_test, y_train, y_test, model, verbose=False):\n",
    "    #train the model with the training data set\n",
    "    model.fit(X_train, y_train)\n",
    "    #make predictions of the test data\n",
    "    y_pred = model.predict(X_test)\n",
    "    #generate the confusion matrix\n",
    "    conf_mat =  confusion_matrix(y_test, y_pred)\n",
    "    #calculate the model prediction accuracy\n",
    "    acc = accuracy_score(y_test, y_pred)\n",
    "    #generate the class prediction probabilities for every\n",
    "    #data point in the testing set.\n",
    "    probs = model.predict_proba(X_test)\n",
    "    #print the prediction accuracy\n",
    "    print(\"Accuracy Score of the SVM classifier: \\n\", acc)\n",
    "    #print the confusion matrix\n",
    "    print(\"The confusion Matrix: \\n\", conf_mat)\n",
    "    #print the recall\n",
    "    print(\"Recall = \", recall_score(y_test, y_pred))\n",
    "    #print the f1_score for the model\n",
    "    print(\"F1_score = \", f1_score(y_test, y_pred))\n",
    "    #plot the heatmap for the confusio matrix.\n",
    "    #visuals ease comprehension of information and this justifies why \n",
    "    #I want a heatmap to be produced each time this functions is used.\n",
    "    if verbose:    \n",
    "        plt.figure(figsize=(4,4))\n",
    "        sb.heatmap(conf_mat, cmap=sb.diverging_palette(20, 220, n=200), square=True, annot=True)\n",
    "    return X_test, y_test, y_pred, probs"
   ]
  },
  {
   "cell_type": "code",
   "execution_count": 26,
   "metadata": {},
   "outputs": [
    {
     "name": "stdout",
     "output_type": "stream",
     "text": [
      "Accuracy Score of the SVM classifier: \n",
      " 0.8313090418353576\n",
      "The confusion Matrix: \n",
      " [[3409  160]\n",
      " [ 590  287]]\n",
      "Recall =  0.3272519954389966\n",
      "F1_score =  0.43353474320241686\n"
     ]
    },
    {
     "data": {
      "image/png": "[encoded data removed]",
      "text/plain": [
       "<Figure size 288x288 with 2 Axes>"
      ]
     },
     "metadata": {
      "needs_background": "light"
     },
     "output_type": "display_data"
    }
   ],
   "source": [
    "#create an instance of the SVM classifier \n",
    "classifier = svm.SVC(probability=True)\n",
    "xtest, ytest, y_pred, probs = train_predict(normalized_X_train, normalized_X_test, y_train, y_test, classifier, verbose=True)"
   ]
  },
  {
   "cell_type": "code",
   "execution_count": 32,
   "metadata": {},
   "outputs": [
    {
     "name": "stdout",
     "output_type": "stream",
     "text": [
      "AUC: 0.88\n"
     ]
    },
    {
     "data": {
      "image/png": "[encoded data removed]",
      "text/plain": [
       "<Figure size 864x720 with 1 Axes>"
      ]
     },
     "metadata": {
      "needs_background": "light"
     },
     "output_type": "display_data"
    }
   ],
   "source": [
    "from sklearn.metrics import roc_curve\n",
    "from sklearn.metrics import roc_auc_score\n",
    "def plot_roc_cur(probs, y_test):\n",
    "    probs = probs[:, 1]\n",
    "    auc = roc_auc_score(y_test, probs)\n",
    "    print('AUC: %.2f' % auc)\n",
    "    \n",
    "    fig, ax = plt.subplots(figsize=(12,10))\n",
    "    fpr, tpr, thresholds = roc_curve(y_test, probs)\n",
    "    plt.plot(fpr, tpr, color='blue',LineWidth = 3, label='ROC')\n",
    "    plt.xlabel('False Positive Rate')\n",
    "    plt.ylabel('True Positive Rate')\n",
    "    plt.title(\"Area Under the Receiver Operating Characteristics Curve,\")\n",
    "    plt.grid()\n",
    "    plt.legend()\n",
    "    plt.show()\n",
    "plot_roc_cur(probs, ytest)"
   ]
  },
  {
   "cell_type": "markdown",
   "metadata": {},
   "source": [
    "**Observation**\n",
    "* The accuracy is very good.\n",
    "* The f1_score is low when compared to the accuracy value.\n",
    "\n",
    "**Why?**\n"
   ]
  },
  {
   "cell_type": "markdown",
   "metadata": {},
   "source": [
    "### Class Imabalance?\n",
    "\n",
    "So there was a time I wanted to take part in the Outreachy program. I started but the amount of work I had didn't permit me to go further but from the one task that I completed, building a model for wine recommendation, I learned the concept of data imbalance and its effects on a model.\n",
    "\n",
    "Since then, data imbalance is one of the things I usually check out for in every classification task I embark on.\n",
    "\n",
    "Data imabalance is a situation where the proportion of data for a single class is way more than in another class. In this problem, only 20.45% of the available data is classified as yes. With the larger portion of the data being no, the probability of always getting a no is higher and this has a huge effect on the model prediction ability."
   ]
  },
  {
   "cell_type": "code",
   "execution_count": 29,
   "metadata": {},
   "outputs": [
    {
     "data": {
      "text/plain": [
       "Text(0.5, 0, 'Value')"
      ]
     },
     "execution_count": 29,
     "metadata": {},
     "output_type": "execute_result"
    },
    {
     "data": {
      "image/png": "[encoded data removed]",
      "text/plain": [
       "<Figure size 432x288 with 1 Axes>"
      ]
     },
     "metadata": {
      "needs_background": "light"
     },
     "output_type": "display_data"
    }
   ],
   "source": [
    "subscribed = bank_df['subscribed_yes'].values.tolist()\n",
    "val, cnt = np.unique(subscribed, return_counts=True)\n",
    "prop = cnt / len(subscribed)\n",
    "plt.bar(val, cnt, color='indigo')\n",
    "\n",
    "plt.bar(val, prop)\n",
    "plt.ylabel(\"Count\")\n",
    "plt.xlabel(\"Value\")"
   ]
  },
  {
   "cell_type": "markdown",
   "metadata": {},
   "source": [
    "From the bar plot, it is evident that there is imbalance in the data sets, the data entries with target values `yes` suggesting a certain level of imbalance in the dataset. Imbalnce datasets present some challenges in machine learning models\n",
    "\n",
    "There are several methods used to [handle imbalance data](https://www.analyticsvidhya.com/blog/2017/03/imbalanced-data-classification/)\n",
    "Several methods are used to adjust the data to mitigate the effect of the imbalance\n",
    "* Oversampling the of the minority data\n",
    "* Undersampling of the majority data\n",
    "* generation of synthetic data points for the minority data (Synthetic Minority Over-sampling Technique).\n",
    "etc\n",
    "\n",
    "Upsampling increases the likelihood of overfiting\n",
    "Downsampling leads to information loss\n",
    "SMOTE technique fight the above limitations by\n",
    "* Mitigating the problem of overfitting caused by random oversampling since synthetic examples are generated rather than replication of instances.\n",
    "* Ensuring that no data is loss since there is no data deletion.\n",
    "\n",
    "This SMOTE has it limitations but it works better than random oversampling or random downsampling. Hence the reason why I employed it for this task."
   ]
  },
  {
   "cell_type": "code",
   "execution_count": 33,
   "metadata": {},
   "outputs": [],
   "source": [
    "from imblearn.over_sampling import SMOTE\n",
    "def SMOTE_resampling(X, y):\n",
    "    smote = SMOTE(random_state = 42)\n",
    "    x_resampled, y_resampled = smote.fit_resample(X, y)\n",
    "    return x_resampled, y_resampled "
   ]
  },
  {
   "cell_type": "code",
   "execution_count": 34,
   "metadata": {},
   "outputs": [
    {
     "name": "stdout",
     "output_type": "stream",
     "text": [
      "Accuracy Score of the SVM classifier: \n",
      " 0.7194966775060088\n",
      "The confusion Matrix: \n",
      " [[2508  994]\n",
      " [ 990 2581]]\n",
      "Recall =  0.7227667320078409\n",
      "F1_score =  0.7223621606493142\n"
     ]
    }
   ],
   "source": [
    "x_resampled, y_resampled = SMOTE_resampling(X, y)\n",
    "X_train, X_test, y_train, y_test = train_test_split(x_resampled, y_resampled, test_size=0.30, random_state=42)\n",
    "xtest, ytest, y_pred, probs = train_predict(X_train, X_test, y_train, y_test, classifier)"
   ]
  },
  {
   "cell_type": "markdown",
   "metadata": {},
   "source": [
    "The results above show huge improvement inthe model performance. But note that the data use above has noe been scaled?\n",
    "\n",
    "**Can the performance increase with feature scaling?**"
   ]
  },
  {
   "cell_type": "code",
   "execution_count": 35,
   "metadata": {},
   "outputs": [
    {
     "name": "stdout",
     "output_type": "stream",
     "text": [
      "Accuracy Score of the SVM classifier: \n",
      " 0.8806729817616288\n",
      "The confusion Matrix: \n",
      " [[3256  246]\n",
      " [ 598 2973]]\n",
      "Recall =  0.8325399047885746\n",
      "F1_score =  0.875699558173785\n"
     ]
    }
   ],
   "source": [
    "x_resampled, y_resampled = SMOTE_resampling(X, y)\n",
    "X_train, X_test, y_train, y_test = train_test_split(x_resampled, y_resampled, test_size=0.30, random_state=42)\n",
    "# fit scaler on training data\n",
    "norm = MinMaxScaler().fit(X_train)\n",
    "# transform training data\n",
    "normalized_X_train = norm.transform(X_train)\n",
    "# transform testing dataabs\n",
    "normalized_X_test = norm.transform(X_test)\n",
    "xtest, ytest, y_pred, probs = train_predict(normalized_X_train, normalized_X_test, y_train, y_test, classifier)"
   ]
  },
  {
   "cell_type": "markdown",
   "metadata": {},
   "source": [
    "The model accuracy has increase but what has change tremendously is the Recall and the F1_score. "
   ]
  },
  {
   "cell_type": "code",
   "execution_count": null,
   "metadata": {},
   "outputs": [],
   "source": []
  }
 ],
 "metadata": {
  "kernelspec": {
   "display_name": "Python 3",
   "language": "python",
   "name": "python3"
  },
  "language_info": {
   "codemirror_mode": {
    "name": "ipython",
    "version": 3
   },
   "file_extension": ".py",
   "mimetype": "text/x-python",
   "name": "python",
   "nbconvert_exporter": "python",
   "pygments_lexer": "ipython3",
   "version": "3.7.1"
  }
 },
 "nbformat": 4,
 "nbformat_minor": 2
}
